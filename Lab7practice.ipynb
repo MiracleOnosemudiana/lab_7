{
  "cells": [
    {
      "cell_type": "code",
      "execution_count": 3,
      "id": "3a1fd833",
      "metadata": {
        "id": "3a1fd833"
      },
      "outputs": [],
      "source": [
        "import numpy as np\n",
        "import pandas as pd\n",
        "import matplotlib.pyplot as plt\n",
        "import seaborn as sns"
      ]
    },
    {
      "cell_type": "code",
      "execution_count": 9,
      "id": "b2f03c77",
      "metadata": {
        "id": "b2f03c77",
        "outputId": "ca765ec2-41cd-4d65-fdad-362ea501a427",
        "colab": {
          "base_uri": "https://localhost:8080/",
          "height": 304
        }
      },
      "outputs": [
        {
          "output_type": "error",
          "ename": "FileNotFoundError",
          "evalue": "[Errno 2] No such file or directory: 'dataset/Advertising_Budget_and_Sales-1.csv'",
          "traceback": [
            "\u001b[0;31m---------------------------------------------------------------------------\u001b[0m",
            "\u001b[0;31mFileNotFoundError\u001b[0m                         Traceback (most recent call last)",
            "\u001b[0;32m/tmp/ipython-input-1190329537.py\u001b[0m in \u001b[0;36m<cell line: 0>\u001b[0;34m()\u001b[0m\n\u001b[0;32m----> 1\u001b[0;31m \u001b[0mdf\u001b[0m \u001b[0;34m=\u001b[0m \u001b[0mpd\u001b[0m\u001b[0;34m.\u001b[0m\u001b[0mread_csv\u001b[0m\u001b[0;34m(\u001b[0m\u001b[0;34m'dataset/Advertising_Budget_and_Sales-1.csv'\u001b[0m\u001b[0;34m)\u001b[0m\u001b[0;34m\u001b[0m\u001b[0;34m\u001b[0m\u001b[0m\n\u001b[0m\u001b[1;32m      2\u001b[0m \u001b[0mdf\u001b[0m\u001b[0;34m.\u001b[0m\u001b[0mhead\u001b[0m\u001b[0;34m(\u001b[0m\u001b[0;36m10\u001b[0m\u001b[0;34m)\u001b[0m\u001b[0;34m\u001b[0m\u001b[0;34m\u001b[0m\u001b[0m\n",
            "\u001b[0;32m/usr/local/lib/python3.12/dist-packages/pandas/io/parsers/readers.py\u001b[0m in \u001b[0;36mread_csv\u001b[0;34m(filepath_or_buffer, sep, delimiter, header, names, index_col, usecols, dtype, engine, converters, true_values, false_values, skipinitialspace, skiprows, skipfooter, nrows, na_values, keep_default_na, na_filter, verbose, skip_blank_lines, parse_dates, infer_datetime_format, keep_date_col, date_parser, date_format, dayfirst, cache_dates, iterator, chunksize, compression, thousands, decimal, lineterminator, quotechar, quoting, doublequote, escapechar, comment, encoding, encoding_errors, dialect, on_bad_lines, delim_whitespace, low_memory, memory_map, float_precision, storage_options, dtype_backend)\u001b[0m\n\u001b[1;32m   1024\u001b[0m     \u001b[0mkwds\u001b[0m\u001b[0;34m.\u001b[0m\u001b[0mupdate\u001b[0m\u001b[0;34m(\u001b[0m\u001b[0mkwds_defaults\u001b[0m\u001b[0;34m)\u001b[0m\u001b[0;34m\u001b[0m\u001b[0;34m\u001b[0m\u001b[0m\n\u001b[1;32m   1025\u001b[0m \u001b[0;34m\u001b[0m\u001b[0m\n\u001b[0;32m-> 1026\u001b[0;31m     \u001b[0;32mreturn\u001b[0m \u001b[0m_read\u001b[0m\u001b[0;34m(\u001b[0m\u001b[0mfilepath_or_buffer\u001b[0m\u001b[0;34m,\u001b[0m \u001b[0mkwds\u001b[0m\u001b[0;34m)\u001b[0m\u001b[0;34m\u001b[0m\u001b[0;34m\u001b[0m\u001b[0m\n\u001b[0m\u001b[1;32m   1027\u001b[0m \u001b[0;34m\u001b[0m\u001b[0m\n\u001b[1;32m   1028\u001b[0m \u001b[0;34m\u001b[0m\u001b[0m\n",
            "\u001b[0;32m/usr/local/lib/python3.12/dist-packages/pandas/io/parsers/readers.py\u001b[0m in \u001b[0;36m_read\u001b[0;34m(filepath_or_buffer, kwds)\u001b[0m\n\u001b[1;32m    618\u001b[0m \u001b[0;34m\u001b[0m\u001b[0m\n\u001b[1;32m    619\u001b[0m     \u001b[0;31m# Create the parser.\u001b[0m\u001b[0;34m\u001b[0m\u001b[0;34m\u001b[0m\u001b[0m\n\u001b[0;32m--> 620\u001b[0;31m     \u001b[0mparser\u001b[0m \u001b[0;34m=\u001b[0m \u001b[0mTextFileReader\u001b[0m\u001b[0;34m(\u001b[0m\u001b[0mfilepath_or_buffer\u001b[0m\u001b[0;34m,\u001b[0m \u001b[0;34m**\u001b[0m\u001b[0mkwds\u001b[0m\u001b[0;34m)\u001b[0m\u001b[0;34m\u001b[0m\u001b[0;34m\u001b[0m\u001b[0m\n\u001b[0m\u001b[1;32m    621\u001b[0m \u001b[0;34m\u001b[0m\u001b[0m\n\u001b[1;32m    622\u001b[0m     \u001b[0;32mif\u001b[0m \u001b[0mchunksize\u001b[0m \u001b[0;32mor\u001b[0m \u001b[0miterator\u001b[0m\u001b[0;34m:\u001b[0m\u001b[0;34m\u001b[0m\u001b[0;34m\u001b[0m\u001b[0m\n",
            "\u001b[0;32m/usr/local/lib/python3.12/dist-packages/pandas/io/parsers/readers.py\u001b[0m in \u001b[0;36m__init__\u001b[0;34m(self, f, engine, **kwds)\u001b[0m\n\u001b[1;32m   1618\u001b[0m \u001b[0;34m\u001b[0m\u001b[0m\n\u001b[1;32m   1619\u001b[0m         \u001b[0mself\u001b[0m\u001b[0;34m.\u001b[0m\u001b[0mhandles\u001b[0m\u001b[0;34m:\u001b[0m \u001b[0mIOHandles\u001b[0m \u001b[0;34m|\u001b[0m \u001b[0;32mNone\u001b[0m \u001b[0;34m=\u001b[0m \u001b[0;32mNone\u001b[0m\u001b[0;34m\u001b[0m\u001b[0;34m\u001b[0m\u001b[0m\n\u001b[0;32m-> 1620\u001b[0;31m         \u001b[0mself\u001b[0m\u001b[0;34m.\u001b[0m\u001b[0m_engine\u001b[0m \u001b[0;34m=\u001b[0m \u001b[0mself\u001b[0m\u001b[0;34m.\u001b[0m\u001b[0m_make_engine\u001b[0m\u001b[0;34m(\u001b[0m\u001b[0mf\u001b[0m\u001b[0;34m,\u001b[0m \u001b[0mself\u001b[0m\u001b[0;34m.\u001b[0m\u001b[0mengine\u001b[0m\u001b[0;34m)\u001b[0m\u001b[0;34m\u001b[0m\u001b[0;34m\u001b[0m\u001b[0m\n\u001b[0m\u001b[1;32m   1621\u001b[0m \u001b[0;34m\u001b[0m\u001b[0m\n\u001b[1;32m   1622\u001b[0m     \u001b[0;32mdef\u001b[0m \u001b[0mclose\u001b[0m\u001b[0;34m(\u001b[0m\u001b[0mself\u001b[0m\u001b[0;34m)\u001b[0m \u001b[0;34m->\u001b[0m \u001b[0;32mNone\u001b[0m\u001b[0;34m:\u001b[0m\u001b[0;34m\u001b[0m\u001b[0;34m\u001b[0m\u001b[0m\n",
            "\u001b[0;32m/usr/local/lib/python3.12/dist-packages/pandas/io/parsers/readers.py\u001b[0m in \u001b[0;36m_make_engine\u001b[0;34m(self, f, engine)\u001b[0m\n\u001b[1;32m   1878\u001b[0m                 \u001b[0;32mif\u001b[0m \u001b[0;34m\"b\"\u001b[0m \u001b[0;32mnot\u001b[0m \u001b[0;32min\u001b[0m \u001b[0mmode\u001b[0m\u001b[0;34m:\u001b[0m\u001b[0;34m\u001b[0m\u001b[0;34m\u001b[0m\u001b[0m\n\u001b[1;32m   1879\u001b[0m                     \u001b[0mmode\u001b[0m \u001b[0;34m+=\u001b[0m \u001b[0;34m\"b\"\u001b[0m\u001b[0;34m\u001b[0m\u001b[0;34m\u001b[0m\u001b[0m\n\u001b[0;32m-> 1880\u001b[0;31m             self.handles = get_handle(\n\u001b[0m\u001b[1;32m   1881\u001b[0m                 \u001b[0mf\u001b[0m\u001b[0;34m,\u001b[0m\u001b[0;34m\u001b[0m\u001b[0;34m\u001b[0m\u001b[0m\n\u001b[1;32m   1882\u001b[0m                 \u001b[0mmode\u001b[0m\u001b[0;34m,\u001b[0m\u001b[0;34m\u001b[0m\u001b[0;34m\u001b[0m\u001b[0m\n",
            "\u001b[0;32m/usr/local/lib/python3.12/dist-packages/pandas/io/common.py\u001b[0m in \u001b[0;36mget_handle\u001b[0;34m(path_or_buf, mode, encoding, compression, memory_map, is_text, errors, storage_options)\u001b[0m\n\u001b[1;32m    871\u001b[0m         \u001b[0;32mif\u001b[0m \u001b[0mioargs\u001b[0m\u001b[0;34m.\u001b[0m\u001b[0mencoding\u001b[0m \u001b[0;32mand\u001b[0m \u001b[0;34m\"b\"\u001b[0m \u001b[0;32mnot\u001b[0m \u001b[0;32min\u001b[0m \u001b[0mioargs\u001b[0m\u001b[0;34m.\u001b[0m\u001b[0mmode\u001b[0m\u001b[0;34m:\u001b[0m\u001b[0;34m\u001b[0m\u001b[0;34m\u001b[0m\u001b[0m\n\u001b[1;32m    872\u001b[0m             \u001b[0;31m# Encoding\u001b[0m\u001b[0;34m\u001b[0m\u001b[0;34m\u001b[0m\u001b[0m\n\u001b[0;32m--> 873\u001b[0;31m             handle = open(\n\u001b[0m\u001b[1;32m    874\u001b[0m                 \u001b[0mhandle\u001b[0m\u001b[0;34m,\u001b[0m\u001b[0;34m\u001b[0m\u001b[0;34m\u001b[0m\u001b[0m\n\u001b[1;32m    875\u001b[0m                 \u001b[0mioargs\u001b[0m\u001b[0;34m.\u001b[0m\u001b[0mmode\u001b[0m\u001b[0;34m,\u001b[0m\u001b[0;34m\u001b[0m\u001b[0;34m\u001b[0m\u001b[0m\n",
            "\u001b[0;31mFileNotFoundError\u001b[0m: [Errno 2] No such file or directory: 'dataset/Advertising_Budget_and_Sales-1.csv'"
          ]
        }
      ],
      "source": [
        "df = pd.read_csv('dataset/Advertising_Budget_and_Sales-1.csv')\n",
        "df.head(10)"
      ]
    },
    {
      "cell_type": "code",
      "execution_count": null,
      "id": "9e81da03",
      "metadata": {
        "id": "9e81da03"
      },
      "outputs": [],
      "source": [
        "df = df.drop([\"Unnamed: 0\"], axis=1)\n",
        "df.head()"
      ]
    },
    {
      "cell_type": "code",
      "execution_count": null,
      "id": "9e6c66e5",
      "metadata": {
        "id": "9e6c66e5"
      },
      "outputs": [],
      "source": [
        "df.info()"
      ]
    },
    {
      "cell_type": "code",
      "execution_count": null,
      "id": "91206ce2",
      "metadata": {
        "id": "91206ce2"
      },
      "outputs": [],
      "source": [
        "df.columns = ['TV','Radio','Newspaper','Sales']"
      ]
    },
    {
      "cell_type": "code",
      "execution_count": null,
      "id": "a4f225d3",
      "metadata": {
        "id": "a4f225d3"
      },
      "outputs": [],
      "source": [
        "df.info()"
      ]
    },
    {
      "cell_type": "code",
      "execution_count": null,
      "id": "ad0c1663",
      "metadata": {
        "id": "ad0c1663"
      },
      "outputs": [],
      "source": [
        "print(df.shape)"
      ]
    },
    {
      "cell_type": "code",
      "execution_count": null,
      "id": "6f0f9bee",
      "metadata": {
        "id": "6f0f9bee"
      },
      "outputs": [],
      "source": [
        "categorical = df.select_dtypes(include=\"object\")\n",
        "categorical.head()"
      ]
    },
    {
      "cell_type": "code",
      "execution_count": null,
      "id": "0133239b",
      "metadata": {
        "id": "0133239b"
      },
      "outputs": [],
      "source": [
        "df.describe()"
      ]
    },
    {
      "cell_type": "code",
      "execution_count": null,
      "id": "d6ec05f1",
      "metadata": {
        "id": "d6ec05f1"
      },
      "outputs": [],
      "source": [
        "df.describe().T"
      ]
    },
    {
      "cell_type": "markdown",
      "id": "f5175030",
      "metadata": {
        "id": "f5175030"
      },
      "source": [
        "(B). EXPLORATORY DATA ANALYSIS"
      ]
    },
    {
      "cell_type": "code",
      "execution_count": null,
      "id": "c9d19d2b",
      "metadata": {
        "id": "c9d19d2b"
      },
      "outputs": [],
      "source": [
        "for col in df.columns:\n",
        "    plt.figure(figsize=(10, 5))\n",
        "    sns.histplot(data=df[col], bins=40, kde=True)\n",
        "    plt.title(f\"{col.upper()} Distribution\")\n",
        "    plt.show()"
      ]
    },
    {
      "cell_type": "code",
      "execution_count": null,
      "id": "fadaee4a",
      "metadata": {
        "id": "fadaee4a"
      },
      "outputs": [],
      "source": [
        "for col in df.columns:\n",
        "    plt.figure(figsize=(6, 4))\n",
        "    sns.violinplot(y=df[col], color=\"skyblue\")\n",
        "    plt.title(f\"{col.upper()} Distribution\")\n",
        "    plt.xticks([])\n",
        "    plt.tight_layout()\n",
        "    plt.show()"
      ]
    },
    {
      "cell_type": "code",
      "execution_count": null,
      "id": "af937504",
      "metadata": {
        "id": "af937504"
      },
      "outputs": [],
      "source": [
        "for col in df.columns:\n",
        "    plt.figure(figsize=(6, 8))\n",
        "    sns.boxplot(data=df, y=col, color=\"skyblue\")\n",
        "    plt.title(f\"{col.upper()} Spread\")\n",
        "    plt.show()"
      ]
    },
    {
      "cell_type": "code",
      "execution_count": null,
      "id": "c3c12693",
      "metadata": {
        "id": "c3c12693"
      },
      "outputs": [],
      "source": [
        "means = df.mean(numeric_only=True)\n",
        "\n",
        "plt.figure(figsize=(8,5))\n",
        "means.plot(kind='bar', color='skyblue')\n",
        "plt.title('Mean Values of Each Feature')\n",
        "plt.ylabel('Mean')\n",
        "plt.xticks(rotation=0)\n",
        "plt.grid(axis='y', linestyle='--', alpha = 0.7)\n",
        "plt.tight_layout()\n",
        "plt.show()"
      ]
    },
    {
      "cell_type": "code",
      "execution_count": null,
      "id": "47d124eb",
      "metadata": {
        "id": "47d124eb"
      },
      "outputs": [],
      "source": [
        "total = df.sum(numeric_only=True)\n",
        "\n",
        "plt.figure(figsize=(8,5))\n",
        "total.plot(kind='bar', color='skyblue')\n",
        "plt.title('Total Values of Each Feature')\n",
        "plt.ylabel('Total sum')\n",
        "plt.xticks(rotation=0)\n",
        "plt.grid(axis='y', linestyle='--' , alpha=0.7)\n",
        "plt.tight_layout()\n",
        "plt.show()"
      ]
    },
    {
      "cell_type": "code",
      "execution_count": null,
      "id": "3e728b40",
      "metadata": {
        "id": "3e728b40"
      },
      "outputs": [],
      "source": [
        "for col in df.columns:\n",
        "    plt.figure(figsize=(8,6))\n",
        "    sns.scatterplot(data=df, x='Sales', y=col)\n",
        "    plt.title(f'scatter plot of Sales vs. {col.upper()}')\n",
        "    plt.show()"
      ]
    },
    {
      "cell_type": "code",
      "execution_count": null,
      "id": "157d2a4e",
      "metadata": {
        "id": "157d2a4e"
      },
      "outputs": [],
      "source": [
        "corr_matrix = df.corr()\n",
        "plt.figure(figsize=(10,6))\n",
        "sns.heatmap(corr_matrix, annot=True, cmap='Blues')\n",
        "plt.title('Correlation Heatmap')\n",
        "plt.xticks(rotation=45, ha='right')\n",
        "plt.tight_layout()\n",
        "plt.show()"
      ]
    },
    {
      "cell_type": "code",
      "execution_count": null,
      "id": "7bfe3d2a",
      "metadata": {
        "id": "7bfe3d2a"
      },
      "outputs": [],
      "source": [
        "corr_matrix= df.corr()\n",
        "plt.figure(figsize=(10,6))\n",
        "sns.heatmap(corr_matrix, annot=False, cmap='Blues')\n",
        "plt.title('Correlation Heatmap')\n",
        "plt.xticks(rotation=45, ha='right')\n",
        "plt.tight_layout()\n",
        "plt.show()"
      ]
    },
    {
      "cell_type": "code",
      "execution_count": null,
      "id": "d2de5b2a",
      "metadata": {
        "id": "d2de5b2a"
      },
      "outputs": [],
      "source": [
        "mask= np.triu(np.ones_like(corr_matrix),k=1)\n",
        "plt.figure(figsize=(10,8))\n",
        "sns.heatmap(\n",
        "    corr_matrix,\n",
        "    annot=True,\n",
        "    cmap='coolwarm',\n",
        "    vmin=-1,\n",
        "    vmax=1,\n",
        "    center=0,\n",
        "    mask=mask,\n",
        "    cbar=False\n",
        "\n",
        ")\n",
        "plt.title('Correlation matrix (Lower Triangle)\\n')\n",
        "plt.xticks(rotation=45, ha='right')\n",
        "plt.show()"
      ]
    },
    {
      "cell_type": "code",
      "execution_count": null,
      "id": "32bd276e",
      "metadata": {
        "id": "32bd276e"
      },
      "outputs": [],
      "source": [
        "mask = np.tril(np.ones_like(corr_matrix), k=-1)\n",
        "plt.figure(figsize=(10, 6))\n",
        "sns.heatmap(\n",
        "    corr_matrix,\n",
        "    annot=True,\n",
        "    cmap=\"coolwarm\",\n",
        "    vmin=-1,\n",
        "    vmax=1,\n",
        "    center=0,\n",
        "    mask=mask,\n",
        "    cbar=True,\n",
        ")\n",
        "plt.title('(Correlation Matrix (Upper Triangle)\")')\n",
        "plt.xticks(rotation=45, ha=\"right\")\n",
        "plt.show()"
      ]
    },
    {
      "cell_type": "code",
      "execution_count": null,
      "id": "8ede11c5",
      "metadata": {
        "id": "8ede11c5"
      },
      "outputs": [],
      "source": [
        "g = sns.pairplot(data=df,\n",
        "             diag_kind=\"auto\",\n",
        "             kind=\"reg\",\n",
        "             palette='tab10',\n",
        "             height=5\n",
        "             )\n",
        "# add grid to each inner plot\n",
        "for ax in g.axes.flatten():\n",
        "    if ax is not None:\n",
        "        ax.grid(True, linestyle='--', alpha=0.1)\n",
        "# add title and adjust layout\n",
        "plt.suptitle('Pairwise Relationships by Segment', y=1.02)\n",
        "plt.tight_layout()\n",
        "plt.show()"
      ]
    },
    {
      "cell_type": "code",
      "execution_count": null,
      "id": "24d36e2b",
      "metadata": {
        "id": "24d36e2b"
      },
      "outputs": [],
      "source": [
        "for col in df.columns:\n",
        "    sns.regplot(data=df,\n",
        "                x=col, y=\"Sales\",\n",
        "                scatter=True,\n",
        "                fit_reg=True,\n",
        "                marker=\"o\"\n",
        "                )\n",
        "    plt.title(f'Regplot of Sales vs {col}')\n",
        "    plt.tight_layout()\n",
        "    plt.show()"
      ]
    },
    {
      "cell_type": "markdown",
      "id": "550865fd",
      "metadata": {
        "id": "550865fd"
      },
      "source": [
        "## SIDE TRACTION LEARN TO CREATE SINE GRAPH"
      ]
    },
    {
      "cell_type": "code",
      "execution_count": null,
      "id": "5f86cca0",
      "metadata": {
        "id": "5f86cca0"
      },
      "outputs": [],
      "source": [
        "x = np.arange(0.0, 12.5, 0.06)\n",
        "y = np.sin(x)\n",
        "plt.plot(x, y)\n",
        "plt.title(\"THE SINE GRAPH\")\n",
        "plt.xlabel(\"Degrees\")\n",
        "plt.ylabel(\"sin (x)\")\n",
        "plt.tight_layout()\n",
        "plt.show()"
      ]
    },
    {
      "cell_type": "markdown",
      "id": "db585b3c",
      "metadata": {
        "id": "db585b3c"
      },
      "source": [
        "### SIMPLE LINEAR REGRESSION from step 23"
      ]
    },
    {
      "cell_type": "code",
      "execution_count": null,
      "id": "ebe90998",
      "metadata": {
        "id": "ebe90998"
      },
      "outputs": [],
      "source": [
        "df.head()"
      ]
    },
    {
      "cell_type": "code",
      "execution_count": null,
      "id": "ef1f8740",
      "metadata": {
        "id": "ef1f8740"
      },
      "outputs": [],
      "source": [
        "df[['TV']]"
      ]
    },
    {
      "cell_type": "code",
      "execution_count": null,
      "id": "9514aeff",
      "metadata": {
        "id": "9514aeff"
      },
      "outputs": [],
      "source": [
        "df['Sales']"
      ]
    },
    {
      "cell_type": "markdown",
      "id": "95581144",
      "metadata": {
        "id": "95581144"
      },
      "source": [
        "## Simple Linear Regression"
      ]
    },
    {
      "cell_type": "code",
      "execution_count": 5,
      "id": "a83635eb",
      "metadata": {
        "id": "a83635eb",
        "colab": {
          "base_uri": "https://localhost:8080/",
          "height": 176
        },
        "outputId": "ddef8dcb-7193-44c6-9ebc-1e686ab990d1"
      },
      "outputs": [
        {
          "output_type": "error",
          "ename": "NameError",
          "evalue": "name 'df' is not defined",
          "traceback": [
            "\u001b[0;31m---------------------------------------------------------------------------\u001b[0m",
            "\u001b[0;31mNameError\u001b[0m                                 Traceback (most recent call last)",
            "\u001b[0;32m/tmp/ipython-input-3404721218.py\u001b[0m in \u001b[0;36m<cell line: 0>\u001b[0;34m()\u001b[0m\n\u001b[1;32m      1\u001b[0m \u001b[0;31m# Separate independent variable (TV) and dependent variable (sales)\u001b[0m\u001b[0;34m\u001b[0m\u001b[0;34m\u001b[0m\u001b[0m\n\u001b[0;32m----> 2\u001b[0;31m \u001b[0mx\u001b[0m\u001b[0;34m=\u001b[0m \u001b[0mdf\u001b[0m\u001b[0;34m[\u001b[0m\u001b[0;34m[\u001b[0m\u001b[0;34m'TV'\u001b[0m\u001b[0;34m]\u001b[0m\u001b[0;34m]\u001b[0m \u001b[0;31m# Independent variable (predictor)\u001b[0m\u001b[0;34m\u001b[0m\u001b[0;34m\u001b[0m\u001b[0m\n\u001b[0m\u001b[1;32m      3\u001b[0m \u001b[0my\u001b[0m\u001b[0;34m=\u001b[0m \u001b[0mdf\u001b[0m\u001b[0;34m[\u001b[0m\u001b[0;34m[\u001b[0m\u001b[0;34m'Sales'\u001b[0m\u001b[0;34m]\u001b[0m\u001b[0;34m]\u001b[0m \u001b[0;31m# Dependent variable (target)\u001b[0m\u001b[0;34m\u001b[0m\u001b[0;34m\u001b[0m\u001b[0m\n",
            "\u001b[0;31mNameError\u001b[0m: name 'df' is not defined"
          ]
        }
      ],
      "source": [
        "# Separate independent variable (TV) and dependent variable (sales)\n",
        "x= df[['TV']] # Independent variable (predictor)\n",
        "y= df[['Sales']] # Dependent variable (target)"
      ]
    },
    {
      "cell_type": "code",
      "execution_count": null,
      "id": "2812c4ab",
      "metadata": {
        "id": "2812c4ab"
      },
      "outputs": [],
      "source": [
        "print(x.shape, y.shape)"
      ]
    },
    {
      "cell_type": "code",
      "execution_count": null,
      "id": "37dde4fd",
      "metadata": {
        "id": "37dde4fd"
      },
      "outputs": [],
      "source": [
        "from sklearn.model_selection import train_test_split as split\n",
        "\n",
        "x_train, x_test, y_train, y_test = split(x,y, random_state=42)"
      ]
    },
    {
      "cell_type": "code",
      "execution_count": null,
      "id": "eebd8f42",
      "metadata": {
        "id": "eebd8f42"
      },
      "outputs": [],
      "source": [
        "print(x_train.shape, y_train.shape)"
      ]
    },
    {
      "cell_type": "code",
      "execution_count": null,
      "id": "5dd879e1",
      "metadata": {
        "id": "5dd879e1"
      },
      "outputs": [],
      "source": [
        "x_test.shape, y_test.shape"
      ]
    },
    {
      "cell_type": "code",
      "execution_count": null,
      "id": "0807342e",
      "metadata": {
        "id": "0807342e"
      },
      "outputs": [],
      "source": [
        "# Initialize a simple linear regression model\n",
        "from sklearn.linear_model import LinearRegression\n",
        "simple = LinearRegression()"
      ]
    },
    {
      "cell_type": "code",
      "execution_count": null,
      "id": "ac28f21f",
      "metadata": {
        "id": "ac28f21f"
      },
      "outputs": [],
      "source": [
        "# Train the model on the training data\n",
        "simple.fit(x_train, y_train)"
      ]
    },
    {
      "cell_type": "code",
      "execution_count": null,
      "id": "5f319f1c",
      "metadata": {
        "id": "5f319f1c"
      },
      "outputs": [],
      "source": [
        "# Display the model's coefficient and intercept\n",
        "print(f'Model Coefficient: {simple.coef_}')\n",
        "print(f'Model Intercept: {simple.intercept_}')"
      ]
    },
    {
      "cell_type": "code",
      "execution_count": null,
      "id": "a8e36f26",
      "metadata": {
        "id": "a8e36f26"
      },
      "outputs": [],
      "source": [
        "# make prdictions on the training data\n",
        "y_train_pred = simple.predict(x_train)\n",
        "print(f'Predicted training data: {y_train_pred[:10]}')\n",
        "print(f'\\nActual training data: {(y_train[:10].values)}')"
      ]
    },
    {
      "cell_type": "code",
      "execution_count": null,
      "id": "1ae9cd5c",
      "metadata": {
        "id": "1ae9cd5c"
      },
      "outputs": [],
      "source": [
        "# Make predictions on test data\n",
        "y_pred = simple.predict(x_test)\n",
        "print(f'Predicted training data: {y_pred[:10]}')\n",
        "print(f'\\nActual training data: {(y_test[:10].values)}')"
      ]
    },
    {
      "cell_type": "code",
      "execution_count": null,
      "id": "dbc6fae1",
      "metadata": {
        "id": "dbc6fae1"
      },
      "outputs": [],
      "source": [
        "# Import metrics for evaluating model performance\n",
        "from sklearn.metrics import (r2_score,\n",
        "                             mean_absolute_error,\n",
        "                             mean_squared_error,\n",
        "                             root_mean_squared_error\n",
        "                             )"
      ]
    },
    {
      "cell_type": "code",
      "execution_count": null,
      "id": "c755188c",
      "metadata": {
        "id": "c755188c"
      },
      "outputs": [],
      "source": [
        "# Calculate evaluation metrics for the training data\n",
        "r2 = r2_score(y_train, y_train_pred)\n",
        "mae_val = mean_absolute_error(y_train, y_train_pred)\n",
        "mse_val = mean_squared_error(y_train, y_train_pred)\n",
        "rmse_val = np.sqrt(mse_val)"
      ]
    },
    {
      "cell_type": "code",
      "execution_count": null,
      "id": "1ceaefc5",
      "metadata": {
        "id": "1ceaefc5"
      },
      "outputs": [],
      "source": [
        "# Print evaluation metrics for the training data\n",
        "print(f'R^2 Score: {r2:.3f}')\n",
        "print(f'MAE: {mae_val:.3f}')\n",
        "print(f'MSE: {mse_val:.3f}')\n",
        "print(f'RMSE: {rmse_val:.3f}')"
      ]
    },
    {
      "cell_type": "code",
      "execution_count": null,
      "id": "547a0d0d",
      "metadata": {
        "id": "547a0d0d"
      },
      "outputs": [],
      "source": [
        "# Plot actual vs. predicted sales for training data\n",
        "plt.figure(figsize=(8,6))\n",
        "plt.scatter(y_train,y_train_pred, color='blue', edgecolor='k', alpha=0.7, s=9)\n",
        "plt.plot([y_test.min(), y_test.max()],\n",
        "         [y_test.min(), y_test.max()],\n",
        "         'r--'\n",
        "         )\n",
        "plt.xlabel('Actual Sales')\n",
        "plt.ylabel('Predicted Sales')\n",
        "plt.title('Actual vs Predicted Sales')\n",
        "plt.tight_layout()\n",
        "plt.show"
      ]
    },
    {
      "cell_type": "markdown",
      "id": "7b53a817",
      "metadata": {
        "id": "7b53a817"
      },
      "source": [
        "## Multiple Linear Regression"
      ]
    },
    {
      "cell_type": "code",
      "execution_count": 6,
      "id": "3203828c",
      "metadata": {
        "id": "3203828c",
        "colab": {
          "base_uri": "https://localhost:8080/",
          "height": 176
        },
        "outputId": "40e5ef4e-ee54-47bd-8854-b85b3334f5d5"
      },
      "outputs": [
        {
          "output_type": "error",
          "ename": "NameError",
          "evalue": "name 'df' is not defined",
          "traceback": [
            "\u001b[0;31m---------------------------------------------------------------------------\u001b[0m",
            "\u001b[0;31mNameError\u001b[0m                                 Traceback (most recent call last)",
            "\u001b[0;32m/tmp/ipython-input-764894199.py\u001b[0m in \u001b[0;36m<cell line: 0>\u001b[0;34m()\u001b[0m\n\u001b[1;32m      1\u001b[0m \u001b[0;31m# Seperate predictors (all features except sales) and target (sales)\u001b[0m\u001b[0;34m\u001b[0m\u001b[0;34m\u001b[0m\u001b[0m\n\u001b[0;32m----> 2\u001b[0;31m \u001b[0mx\u001b[0m \u001b[0;34m=\u001b[0m \u001b[0mdf\u001b[0m\u001b[0;34m.\u001b[0m\u001b[0mdrop\u001b[0m\u001b[0;34m(\u001b[0m\u001b[0;34m[\u001b[0m\u001b[0;34m\"Sales\"\u001b[0m\u001b[0;34m]\u001b[0m\u001b[0;34m,\u001b[0m \u001b[0maxis\u001b[0m\u001b[0;34m=\u001b[0m\u001b[0;36m1\u001b[0m\u001b[0;34m)\u001b[0m\u001b[0;34m\u001b[0m\u001b[0;34m\u001b[0m\u001b[0m\n\u001b[0m\u001b[1;32m      3\u001b[0m \u001b[0my\u001b[0m \u001b[0;34m=\u001b[0m \u001b[0mdf\u001b[0m\u001b[0;34m[\u001b[0m\u001b[0;34m\"Sales\"\u001b[0m\u001b[0;34m]\u001b[0m\u001b[0;34m\u001b[0m\u001b[0;34m\u001b[0m\u001b[0m\n",
            "\u001b[0;31mNameError\u001b[0m: name 'df' is not defined"
          ]
        }
      ],
      "source": [
        "# Seperate predictors (all features except sales) and target (sales)\n",
        "x = df.drop([\"Sales\"], axis=1)\n",
        "y = df[\"Sales\"]"
      ]
    },
    {
      "cell_type": "code",
      "execution_count": null,
      "id": "4a9f8d35",
      "metadata": {
        "id": "4a9f8d35"
      },
      "outputs": [],
      "source": [
        "# Check the shape of independent and dependent variables\n",
        "print(x.shape, y.shape)"
      ]
    },
    {
      "cell_type": "code",
      "execution_count": null,
      "id": "dbf9d58f",
      "metadata": {
        "id": "dbf9d58f"
      },
      "outputs": [],
      "source": [
        "from sklearn.model_selection import train_test_split as split\n",
        "\n",
        "x_train, x_test, y_train, y_test = split(x,y, random_state=42)"
      ]
    },
    {
      "cell_type": "code",
      "execution_count": null,
      "id": "8516240d",
      "metadata": {
        "id": "8516240d"
      },
      "outputs": [],
      "source": [
        "# check the shapes of the training data\n",
        "print(x_train.shape, y_train.shape)"
      ]
    },
    {
      "cell_type": "code",
      "execution_count": 7,
      "id": "6283eb64",
      "metadata": {
        "id": "6283eb64"
      },
      "outputs": [],
      "source": [
        "# initialize a multiple linear regression model\n",
        "from sklearn.linear_model import LinearRegression\n",
        "multiple = LinearRegression()"
      ]
    },
    {
      "cell_type": "code",
      "execution_count": 8,
      "id": "f13e2fda",
      "metadata": {
        "id": "f13e2fda",
        "outputId": "dbe56b5b-06e7-4102-ff12-e8213a471ac2",
        "colab": {
          "base_uri": "https://localhost:8080/",
          "height": 159
        }
      },
      "outputs": [
        {
          "output_type": "error",
          "ename": "NameError",
          "evalue": "name 'x_train' is not defined",
          "traceback": [
            "\u001b[0;31m---------------------------------------------------------------------------\u001b[0m",
            "\u001b[0;31mNameError\u001b[0m                                 Traceback (most recent call last)",
            "\u001b[0;32m/tmp/ipython-input-389268884.py\u001b[0m in \u001b[0;36m<cell line: 0>\u001b[0;34m()\u001b[0m\n\u001b[1;32m      1\u001b[0m \u001b[0;31m# train the model on the training data\u001b[0m\u001b[0;34m\u001b[0m\u001b[0;34m\u001b[0m\u001b[0m\n\u001b[0;32m----> 2\u001b[0;31m \u001b[0mmultiple\u001b[0m\u001b[0;34m.\u001b[0m\u001b[0mfit\u001b[0m\u001b[0;34m(\u001b[0m\u001b[0mx_train\u001b[0m\u001b[0;34m,\u001b[0m \u001b[0my_train\u001b[0m\u001b[0;34m)\u001b[0m\u001b[0;34m\u001b[0m\u001b[0;34m\u001b[0m\u001b[0m\n\u001b[0m",
            "\u001b[0;31mNameError\u001b[0m: name 'x_train' is not defined"
          ]
        }
      ],
      "source": [
        "# train the model on the training data\n",
        "multiple.fit(x_train, y_train)"
      ]
    },
    {
      "cell_type": "code",
      "execution_count": null,
      "id": "d84fdbb3",
      "metadata": {
        "id": "d84fdbb3"
      },
      "outputs": [],
      "source": [
        "# display the model's coefficients and intercept\n",
        "print(f'Model Coefficient: {multiple.coef_}')\n",
        "print(f'Model Intercept: {multiple.intercept_}')"
      ]
    },
    {
      "cell_type": "code",
      "execution_count": null,
      "id": "60068bbc",
      "metadata": {
        "id": "60068bbc"
      },
      "outputs": [],
      "source": [
        "# make predictions on the training data\n",
        "y_train_pred = multiple.predict(x_train)\n",
        "print(f'Predicted training data: {y_train_pred[:10]}')\n",
        "print(f'\\nActual training data: {y_train[:10].values}')"
      ]
    },
    {
      "cell_type": "code",
      "execution_count": null,
      "id": "e025e5c5",
      "metadata": {
        "id": "e025e5c5"
      },
      "outputs": [],
      "source": [
        "# make predictions on the test data\n",
        "y_pred = multiple.predict(x_test)\n",
        "print(f'Predicted training data: {y_pred[:10]}')\n",
        "print(f'\\nActual training data: {y_test[:10].values}')"
      ]
    },
    {
      "cell_type": "code",
      "execution_count": null,
      "id": "c1bf61a9",
      "metadata": {
        "id": "c1bf61a9"
      },
      "outputs": [],
      "source": [
        "# calculate evaluation metrics for the test data\n",
        "r2 = r2_score(y_test, y_pred)\n",
        "mae_val = mean_absolute_error(y_test, y_pred)\n",
        "mse_val = mean_squared_error(y_test, y_pred)\n",
        "rmse_val = np.sqrt(mse_val)"
      ]
    },
    {
      "cell_type": "code",
      "execution_count": null,
      "id": "0ec35741",
      "metadata": {
        "id": "0ec35741"
      },
      "outputs": [],
      "source": [
        "#print evaluation metrics for the test data\n",
        "print(f'R^2 Score: {r2:.3f}')\n",
        "print(f'MAE: {mae_val:.3f}')\n",
        "print(f'MSE: {mse_val:.3f}')\n",
        "print(f'RMSE: {rmse_val:.3f}')"
      ]
    },
    {
      "cell_type": "markdown",
      "id": "fdc14928",
      "metadata": {
        "id": "fdc14928"
      },
      "source": [
        "### Model Explainability"
      ]
    },
    {
      "cell_type": "markdown",
      "source": [
        "# New Section"
      ],
      "metadata": {
        "id": "_OCm1F-HJG5L"
      },
      "id": "_OCm1F-HJG5L"
    },
    {
      "cell_type": "code",
      "execution_count": null,
      "id": "93bfb4ef",
      "metadata": {
        "id": "93bfb4ef"
      },
      "outputs": [],
      "source": [
        "# calculate residuals and create a scatter plot to access model fit\n",
        "residuals = y_test - y_pred\n",
        "plt.figure(figsize=(8, 6))\n",
        "sns.scatterplot(x=y_pred, y=residuals)\n",
        "plt.axhline(0, linestyle='--', color='purple')\n",
        "plt.xlabel('Predicted values')\n",
        "plt.ylabel('Residuals')\n",
        "plt.title('Residual plot')\n",
        "plt.tight_layout()\n",
        "plt.show()"
      ]
    },
    {
      "cell_type": "code",
      "execution_count": null,
      "id": "7bafe9df",
      "metadata": {
        "id": "7bafe9df"
      },
      "outputs": [],
      "source": [
        "# plot the kernel density estimation (KDE) OF RESIDUALS\n",
        "plt.figure(figsize=(8,6))\n",
        "sns.kdeplot(residuals, shade=True, color='Blues')\n",
        "plt.axvline(0, linestyle='--', color='red')\n",
        "plt.xlabel('Pedicted values')\n",
        "plt.ylabel('Residuals')\n",
        "plt.tight_layout()\n",
        "plt.show()"
      ]
    },
    {
      "cell_type": "code",
      "execution_count": null,
      "id": "1a99a09b",
      "metadata": {
        "id": "1a99a09b"
      },
      "outputs": [],
      "source": [
        "#import SHAP library for model explainabilty\n",
        "import shap"
      ]
    },
    {
      "cell_type": "code",
      "execution_count": null,
      "id": "8a8426aa",
      "metadata": {
        "id": "8a8426aa"
      },
      "outputs": [],
      "source": [
        "# Create SHAP Explainer for the multiple linear regression model\n",
        "explainer = shap.Explainer(multiple, x_train)"
      ]
    },
    {
      "cell_type": "code",
      "execution_count": null,
      "id": "c24eed3f",
      "metadata": {
        "id": "c24eed3f"
      },
      "outputs": [],
      "source": [
        "# Compute SHAP values for the test data\n",
        "shap_values = explainer(x_test)"
      ]
    },
    {
      "cell_type": "code",
      "execution_count": null,
      "id": "0782e012",
      "metadata": {
        "id": "0782e012"
      },
      "outputs": [],
      "source": [
        "# Generate a beeswarm plot to visualize the distribution of SHAP values\n",
        "shap.plots.beeswarm(shap_values)"
      ]
    },
    {
      "cell_type": "code",
      "execution_count": null,
      "id": "aaedf633",
      "metadata": {
        "id": "aaedf633"
      },
      "outputs": [],
      "source": [
        "# Create a bar plot to show global feature importance based on average absolute SHAP values\n",
        "shap.plots.bar(shap_values, show=False)\n",
        "plt.title(\"SHAP Feature Importance\")\n",
        "plt.tight_layout()\n",
        "plt.show()"
      ]
    },
    {
      "cell_type": "code",
      "execution_count": null,
      "id": "df485a31",
      "metadata": {
        "id": "df485a31"
      },
      "outputs": [],
      "source": [
        "import joblib"
      ]
    },
    {
      "cell_type": "code",
      "execution_count": null,
      "id": "2731bde0",
      "metadata": {
        "id": "2731bde0"
      },
      "outputs": [],
      "source": [
        "#save the multiple regression model\n",
        "joblib.dump(multiple, 'multiple_regression_model.pkl')"
      ]
    },
    {
      "cell_type": "code",
      "execution_count": null,
      "id": "67986774",
      "metadata": {
        "id": "67986774"
      },
      "outputs": [],
      "source": [
        "#save simple regression model\n",
        "joblib.dump(simple, 'simple_regression_model.pkl')"
      ]
    },
    {
      "cell_type": "code",
      "execution_count": null,
      "id": "1e68d70f",
      "metadata": {
        "id": "1e68d70f"
      },
      "outputs": [],
      "source": []
    }
  ],
  "metadata": {
    "kernelspec": {
      "display_name": "Python 3",
      "language": "python",
      "name": "python3"
    },
    "language_info": {
      "codemirror_mode": {
        "name": "ipython",
        "version": 3
      },
      "file_extension": ".py",
      "mimetype": "text/x-python",
      "name": "python",
      "nbconvert_exporter": "python",
      "pygments_lexer": "ipython3",
      "version": "3.10.11"
    },
    "colab": {
      "provenance": []
    }
  },
  "nbformat": 4,
  "nbformat_minor": 5
}